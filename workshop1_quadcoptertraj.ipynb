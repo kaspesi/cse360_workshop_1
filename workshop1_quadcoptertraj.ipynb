{
 "cells": [
  {
   "cell_type": "markdown",
   "metadata": {},
   "source": [
    "# CoppeliaSim: PART 2\n",
    "* Run the scene workshop1.ttt in CoppeliaSim"
   ]
  },
  {
   "cell_type": "code",
   "execution_count": 1,
   "metadata": {},
   "outputs": [
    {
     "name": "stdout",
     "output_type": "stream",
     "text": [
      "Populating the interactive namespace from numpy and matplotlib\n"
     ]
    }
   ],
   "source": [
    "import sim\n",
    "%pylab inline"
   ]
  },
  {
   "cell_type": "markdown",
   "metadata": {},
   "source": [
    "# Robot"
   ]
  },
  {
   "cell_type": "code",
   "execution_count": 2,
   "metadata": {},
   "outputs": [],
   "source": [
    "class robot():\n",
    "    \n",
    "    def __init__(self, frame_name, motor_names=[], client_id=0):  \n",
    "        # If there is an existing connection\n",
    "        if client_id:\n",
    "                self.client_id = client_id\n",
    "        else:\n",
    "            self.client_id = self.open_connection()\n",
    "            \n",
    "        self.motors = self._get_handlers(motor_names) \n",
    "        \n",
    "        # Robot frame\n",
    "        self.frame =  self._get_handler(frame_name)\n",
    "            \n",
    "        \n",
    "    def open_connection(self):\n",
    "        sim.simxFinish(-1)  # just in case, close all opened connections\n",
    "        clientID = sim.simxStart('127.0.0.1', 19999, True, True, 5000, 5)  # Connect to CoppeliaSim \n",
    "        \n",
    "        if clientID != -1:\n",
    "            print('Robot connected')\n",
    "        else:\n",
    "            print('Connection failed')\n",
    "        return clientID\n",
    "        \n",
    "    def close_connection(self):    \n",
    "        sim.simxGetPingTime(self.client_id)  # Before closing the connection to CoppeliaSim, make sure that the last command sent out had time to arrive.\n",
    "        sim.simxFinish(self.client_id)  # Now close the connection to CoppeliaSim:\n",
    "        print('Connection closed')\n",
    "    \n",
    "    def isConnected(self):\n",
    "        c,result = sim.simxGetPingTime(self.client_id)\n",
    "        # Return true if the robot is connected\n",
    "        return result > 0         \n",
    "        \n",
    "    def _get_handler(self, name):\n",
    "        err_code, handler = sim.simxGetObjectHandle(self.client_id, name, sim.simx_opmode_blocking)\n",
    "        return handler\n",
    "    \n",
    "    def _get_handlers(self, names):\n",
    "        handlers = []\n",
    "        for name in names:\n",
    "            handler = self._get_handler(name)\n",
    "            handlers.append(handler)\n",
    "        \n",
    "        return handlers\n",
    "\n",
    "    def send_motor_velocities(self, vels):\n",
    "        for motor, vel in zip(self.motors, vels):\n",
    "            err_code = sim.simxSetJointTargetVelocity(self.client_id, \n",
    "                                                      motor, vel, sim.simx_opmode_streaming)      \n",
    "            \n",
    "    def set_position(self, position, relative_object=-1):\n",
    "        if relative_object != -1:\n",
    "            relative_object = self._get_handler(relative_object)        \n",
    "        sim.simxSetObjectPosition(self.client_id, self.frame, relative_object, position, sim.simx_opmode_oneshot)\n",
    "        \n",
    "    def simtime(self):\n",
    "        return sim.simxGetLastCmdTime(self.client_id)\n",
    "    \n",
    "    def get_position(self, relative_object=-1):\n",
    "        # Get position relative to an object, -1 for global frame\n",
    "        if relative_object != -1:\n",
    "            relative_object = self._get_handler(relative_object)\n",
    "        res, position = sim.simxGetObjectPosition(self.client_id, self.frame, relative_object, sim.simx_opmode_blocking)        \n",
    "        return array(position)\n",
    "    \n",
    "    def get_object_position(self, object_name):\n",
    "        # Get Object position in the world frame\n",
    "        err_code, object_h = sim.simxGetObjectHandle(self.client_id, object_name, sim.simx_opmode_blocking)\n",
    "        res, position = sim.simxGetObjectPosition(self.client_id, object_h, -1, sim.simx_opmode_blocking)\n",
    "        return array(position)\n",
    "    \n",
    "    def get_object_relative_position(self, object_name):        \n",
    "        # Get Object position in the robot frame\n",
    "        err_code, object_h = sim.simxGetObjectHandle(self.client_id, object_name, sim.simx_opmode_blocking)\n",
    "        res, position = sim.simxGetObjectPosition(self.client_id, object_h, self.frame, sim.simx_opmode_blocking)\n",
    "        return array(position)"
   ]
  },
  {
   "cell_type": "code",
   "execution_count": 3,
   "metadata": {},
   "outputs": [],
   "source": [
    "def follow_traj(robot_position, desired_position, vi, vf, tf):\n",
    "    # Time duration\n",
    "    # Time interval\n",
    "    time_steps = linspace(0, tf, 300)\n",
    "\n",
    "    x1 = robot_position\n",
    "    x2 = desired_position\n",
    "    v1 = vi\n",
    "    v2 = vf\n",
    "    a0 = x1\n",
    "    a1 = v1\n",
    "    a2 = (3*x2 - 3*x1 - 2*v1*tf - v2 * tf) / (tf**2)\n",
    "    a3 = (2*x1 + (v1 + v2) * tf  - 2 * x2) / (tf**3)\n",
    "\n",
    "    # a1 = (desired_position - robot_position) / tf\n",
    "    # a0 = robot_position\n",
    "\n",
    "    for t in time_steps:\n",
    "        polynomial = a0 + a1 * t + a2 * t**2 + a3 * t**3\n",
    "        #derivative = a1 + 2*a2 * t + 3 * a3 * t**2\n",
    "        point_traj = polynomial\n",
    "        #vel_traj = derivative\n",
    "        #print(point_traj)\n",
    "        #ref_point.set_position(point_traj)\n",
    "\n",
    "        # Sensing\n",
    "        robot_position = r.get_position()\n",
    "\n",
    "\n",
    "        # Trajectory tracker\n",
    "        \n",
    "\n",
    "        px, py, pz = polynomial\n",
    "        r.set_position([px,py,pz])\n",
    "\n",
    "        time.sleep(tf/300)\n",
    "    "
   ]
  },
  {
   "cell_type": "code",
   "execution_count": 7,
   "metadata": {},
   "outputs": [
    {
     "name": "stdout",
     "output_type": "stream",
     "text": [
      "Robot connected\n",
      "Connection closed\n"
     ]
    }
   ],
   "source": [
    "r = robot(motor_names = [], frame_name='Quadricopter_target')\n",
    "\n",
    "\n",
    "# Virtual disk\n",
    "#disk = robot('Disc', client_id=r.client_id)\n",
    "\n",
    "robot_position = r.get_position()\n",
    "desired_position = r.get_object_position('Sphere1')\n",
    "follow_traj(robot_position, desired_position,0, 0, .5)\n",
    "\n",
    "robot_position = r.get_position()\n",
    "desired_position = r.get_object_position('Sphere5')\n",
    "desired_position = np.asarray([desired_position[0], desired_position[1], (desired_position[2] + .6)])\n",
    "follow_traj(robot_position, desired_position, 0, 0, .5)\n",
    "\n",
    "robot_position = r.get_position()\n",
    "desired_position = np.asarray([-3.7750, 5.1736, 4.0020])\n",
    "follow_traj(robot_position, desired_position, 0, 0, .5)\n",
    "\n",
    "robot_position = r.get_position()\n",
    "desired_position = r.get_object_position('Sphere6')\n",
    "follow_traj(robot_position, desired_position,0, 0, .5)\n",
    "\n",
    "robot_position = r.get_position()\n",
    "desired_position = np.asarray([-3.7750, 2.6, 1.9500])\n",
    "follow_traj(robot_position, desired_position, 0, 0, .5)\n",
    "\n",
    "robot_position = r.get_position()\n",
    "desired_position = r.get_object_position('Sphere7')\n",
    "follow_traj(robot_position, desired_position,0, 0, .5)\n",
    "\n",
    "robot_position = r.get_position()\n",
    "desired_position = r.get_object_position('Sphere10')\n",
    "follow_traj(robot_position, desired_position,0, 0, .5)\n",
    "\n",
    "robot_position = r.get_position()\n",
    "desired_position = np.asarray([6, -4, 4])\n",
    "follow_traj(robot_position, desired_position,0, 0, .5)\n",
    "\n",
    "robot_position = r.get_position()\n",
    "desired_position = r.get_object_position('Sphere8')\n",
    "follow_traj(robot_position, desired_position,0, 0, .5)\n",
    "\n",
    "robot_position = r.get_position()\n",
    "desired_position = np.asarray([-1.65, -7.075, 4])\n",
    "follow_traj(robot_position, desired_position,0, 0, .5)\n",
    "\n",
    "robot_position = r.get_position()\n",
    "desired_position = r.get_object_position('Sphere9')\n",
    "follow_traj(robot_position, desired_position,0, 0, .5)\n",
    "\n",
    "r.close_connection() "
   ]
  },
  {
   "cell_type": "code",
   "execution_count": 5,
   "metadata": {},
   "outputs": [
    {
     "name": "stdout",
     "output_type": "stream",
     "text": [
      "Robot connected\n",
      "Connection closed\n"
     ]
    }
   ],
   "source": []
  },
  {
   "cell_type": "code",
   "execution_count": null,
   "metadata": {},
   "outputs": [],
   "source": []
  }
 ],
 "metadata": {
  "kernelspec": {
   "display_name": "Python 3",
   "language": "python",
   "name": "python3"
  },
  "language_info": {
   "codemirror_mode": {
    "name": "ipython",
    "version": 3
   },
   "file_extension": ".py",
   "mimetype": "text/x-python",
   "name": "python",
   "nbconvert_exporter": "python",
   "pygments_lexer": "ipython3",
   "version": "3.8.3"
  }
 },
 "nbformat": 4,
 "nbformat_minor": 4
}
